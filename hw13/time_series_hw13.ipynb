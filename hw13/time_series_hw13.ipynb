{
 "cells": [
  {
   "cell_type": "code",
   "execution_count": 36,
   "metadata": {},
   "outputs": [],
   "source": [
    "import pandas as pd\n",
    "import matplotlib.pyplot  as plt\n",
    "import os\n",
    "from gluonts.dataset.pandas import PandasDataset\n",
    "from gluonts.dataset.split import split\n",
    "from gluonts.torch import DeepAREstimator"
   ]
  },
  {
   "cell_type": "code",
   "execution_count": 37,
   "metadata": {},
   "outputs": [],
   "source": [
    "dirname = os.path.join(os.path.abspath(os.curdir), 'underwork')\n",
    "\n",
    "raw_data = {\"3\":(), \"5\":(), \"8\":(), \"10\":(), \"14\":(), \"15\":()}\n",
    "for v in raw_data:\n",
    "    tsdf_c = pd.read_csv(os.path.join(os.sep, dirname, v, 'calm_p.csv'))\n",
    "    tsdf_w = pd.read_csv(os.path.join(os.sep, dirname, v,  'work_p.csv'))\n",
    "    tsdf_m = pd.read_csv(os.path.join(os.sep, dirname, v, 'meta_p.csv'))\n",
    "    raw_data[v] = (tsdf_c, tsdf_w, tsdf_m)"
   ]
  },
  {
   "cell_type": "code",
   "execution_count": 38,
   "metadata": {},
   "outputs": [],
   "source": [
    "data = {\"3\":(), \"5\":(), \"8\":(), \"10\":(), \"14\":(), \"15\":()}\n",
    "\n",
    "for v in raw_data:\n",
    "    calm = raw_data[v][0]\n",
    "    work = raw_data[v][1]\n",
    "    sex = raw_data[v][2].iloc[0][\"values\"]\n",
    "    weight = raw_data[v][2].iloc[1][\"values\"]\n",
    "    height = raw_data[v][2].iloc[2][\"values\"]\n",
    "    calm[\"sex\"] = sex\n",
    "    calm[\"weight\"] = weight\n",
    "    calm[\"height\"] = height\n",
    "    calm[\"state\"] = 0\n",
    "    work[\"sex\"] = sex\n",
    "    work[\"weight\"] = weight\n",
    "    work[\"height\"] = height\n",
    "    work[\"state\"] = 1\n",
    "    data[v] = (calm, work)"
   ]
  },
  {
   "cell_type": "code",
   "execution_count": 39,
   "metadata": {},
   "outputs": [],
   "source": [
    "validation = {\"25\":(), \"27\":()}\n",
    "for v in validation:\n",
    "    calm = pd.read_csv(os.path.join(os.sep, dirname, v, 'calm_p.csv'))\n",
    "    work = pd.read_csv(os.path.join(os.sep, dirname, v,  'work_p.csv'))\n",
    "    tsdf_m = pd.read_csv(os.path.join(os.sep, dirname, v, 'meta_p.csv'))\n",
    "    sex = tsdf_m.iloc[0][\"values\"]\n",
    "    weight = tsdf_m.iloc[1][\"values\"]\n",
    "    height = tsdf_m.iloc[2][\"values\"]\n",
    "    calm[\"sex\"] = sex\n",
    "    calm[\"weight\"] = weight\n",
    "    calm[\"height\"] = height\n",
    "    calm[\"state\"] = 0\n",
    "    work[\"sex\"] = sex\n",
    "    work[\"weight\"] = weight\n",
    "    work[\"height\"] = height\n",
    "    work[\"state\"] = 1\n",
    "    validation[v] = (calm, work)"
   ]
  },
  {
   "cell_type": "code",
   "execution_count": 40,
   "metadata": {},
   "outputs": [
    {
     "data": {
      "text/html": [
       "<div>\n",
       "<style scoped>\n",
       "    .dataframe tbody tr th:only-of-type {\n",
       "        vertical-align: middle;\n",
       "    }\n",
       "\n",
       "    .dataframe tbody tr th {\n",
       "        vertical-align: top;\n",
       "    }\n",
       "\n",
       "    .dataframe thead th {\n",
       "        text-align: right;\n",
       "    }\n",
       "</style>\n",
       "<table border=\"1\" class=\"dataframe\">\n",
       "  <thead>\n",
       "    <tr style=\"text-align: right;\">\n",
       "      <th></th>\n",
       "      <th>1</th>\n",
       "    </tr>\n",
       "    <tr>\n",
       "      <th>time_indices</th>\n",
       "      <th></th>\n",
       "    </tr>\n",
       "  </thead>\n",
       "  <tbody>\n",
       "    <tr>\n",
       "      <th>2021-01-01 01:00:00</th>\n",
       "      <td>1.578218</td>\n",
       "    </tr>\n",
       "    <tr>\n",
       "      <th>2021-01-01 01:00:01</th>\n",
       "      <td>1.578611</td>\n",
       "    </tr>\n",
       "    <tr>\n",
       "      <th>2021-01-01 01:00:02</th>\n",
       "      <td>1.579003</td>\n",
       "    </tr>\n",
       "    <tr>\n",
       "      <th>2021-01-01 01:00:03</th>\n",
       "      <td>1.579003</td>\n",
       "    </tr>\n",
       "    <tr>\n",
       "      <th>2021-01-01 01:00:04</th>\n",
       "      <td>1.579003</td>\n",
       "    </tr>\n",
       "    <tr>\n",
       "      <th>...</th>\n",
       "      <td>...</td>\n",
       "    </tr>\n",
       "    <tr>\n",
       "      <th>2021-01-08 19:06:35</th>\n",
       "      <td>1.629587</td>\n",
       "    </tr>\n",
       "    <tr>\n",
       "      <th>2021-01-08 19:06:36</th>\n",
       "      <td>1.629587</td>\n",
       "    </tr>\n",
       "    <tr>\n",
       "      <th>2021-01-08 19:06:37</th>\n",
       "      <td>1.629587</td>\n",
       "    </tr>\n",
       "    <tr>\n",
       "      <th>2021-01-08 19:06:38</th>\n",
       "      <td>1.628803</td>\n",
       "    </tr>\n",
       "    <tr>\n",
       "      <th>2021-01-08 19:06:39</th>\n",
       "      <td>1.350000</td>\n",
       "    </tr>\n",
       "  </tbody>\n",
       "</table>\n",
       "<p>670000 rows × 1 columns</p>\n",
       "</div>"
      ],
      "text/plain": [
       "                            1\n",
       "time_indices                 \n",
       "2021-01-01 01:00:00  1.578218\n",
       "2021-01-01 01:00:01  1.578611\n",
       "2021-01-01 01:00:02  1.579003\n",
       "2021-01-01 01:00:03  1.579003\n",
       "2021-01-01 01:00:04  1.579003\n",
       "...                       ...\n",
       "2021-01-08 19:06:35  1.629587\n",
       "2021-01-08 19:06:36  1.629587\n",
       "2021-01-08 19:06:37  1.629587\n",
       "2021-01-08 19:06:38  1.628803\n",
       "2021-01-08 19:06:39  1.350000\n",
       "\n",
       "[670000 rows x 1 columns]"
      ]
     },
     "execution_count": 40,
     "metadata": {},
     "output_type": "execute_result"
    }
   ],
   "source": [
    "train_df = []\n",
    "t = 0\n",
    "ids = 0\n",
    "for x in data:\n",
    "    ids += len(data[x][0][\"1\"]) + len(data[x][1][\"1\"])\n",
    "    train_df.extend([data[x][0][\"1\"], data[x][1][\"1\"]])\n",
    "train_df = pd.DataFrame(pd.concat(train_df), columns=[\"1\"])\n",
    "train_df[\"time_indices\"] = pd.to_datetime([*range(ids)], unit='s', origin=pd.Timestamp('2021-01-01 01:00:00', unit='s'))\n",
    "train_df = train_df.set_index(\"time_indices\").asfreq('S')\n",
    "#train_df = pd.concat([train_df_ids, train_df_vals], axis=1)\n",
    "'''validation_df = []\n",
    "for x in validation:\n",
    "    validation_df.extend([validation[x][0], validation[x][1]])\n",
    "pd.concat(validation_df).to_csv(\"validation.csv\", index_label=\"Time\")'''\n",
    "train_df"
   ]
  },
  {
   "cell_type": "code",
   "execution_count": 41,
   "metadata": {},
   "outputs": [
    {
     "data": {
      "text/plain": [
       "PandasDataset<size=1, freq=S, num_feat_dynamic_real=0, num_past_feat_dynamic_real=0, num_feat_static_real=0, num_feat_static_cat=0, static_cardinalities=[]>"
      ]
     },
     "execution_count": 41,
     "metadata": {},
     "output_type": "execute_result"
    }
   ],
   "source": [
    "#train = pd.read_csv(\"train.csv\", index_col=1, parse_dates=True).filter([\"Time\", \"1\"])\n",
    "#dataset = PandasDataset(train, target=\"1\")\n",
    "df = train_df.copy(deep=True)\n",
    "train_df = PandasDataset(train_df, target=\"1\", freq=\"S\")\n",
    "train_df"
   ]
  },
  {
   "cell_type": "code",
   "execution_count": 42,
   "metadata": {},
   "outputs": [],
   "source": [
    "training_data, test_gen = split(train_df, offset=-10000)\n",
    "test_data = test_gen.generate_instances(prediction_length=10000, windows=1)\n"
   ]
  },
  {
   "cell_type": "code",
   "execution_count": 43,
   "metadata": {},
   "outputs": [
    {
     "name": "stderr",
     "output_type": "stream",
     "text": [
      "GPU available: False, used: False\n",
      "TPU available: False, using: 0 TPU cores\n",
      "IPU available: False, using: 0 IPUs\n",
      "HPU available: False, using: 0 HPUs\n"
     ]
    },
    {
     "name": "stderr",
     "output_type": "stream",
     "text": [
      "c:\\Users\\Иван\\AppData\\Local\\Programs\\Python\\Python311\\Lib\\site-packages\\lightning\\pytorch\\trainer\\configuration_validator.py:74: You defined a `validation_step` but have no `val_dataloader`. Skipping val loop.\n",
      "\n",
      "  | Name  | Type        | Params | In sizes                                                               | Out sizes      \n",
      "---------------------------------------------------------------------------------------------------------------------------------\n",
      "0 | model | DeepARModel | 25.1 K | [[1, 1], [1, 1], [1, 10181, 7], [1, 10181], [1, 10181], [1, 10000, 7]] | [1, 100, 10000]\n",
      "---------------------------------------------------------------------------------------------------------------------------------\n",
      "25.1 K    Trainable params\n",
      "0         Non-trainable params\n",
      "25.1 K    Total params\n",
      "0.100     Total estimated model params size (MB)\n"
     ]
    },
    {
     "name": "stdout",
     "output_type": "stream",
     "text": [
      "Epoch 0: |          | 50/? [09:12<00:00,  0.09it/s, v_num=7, train_loss=0.699]"
     ]
    },
    {
     "name": "stderr",
     "output_type": "stream",
     "text": [
      "Epoch 0, global step 50: 'train_loss' reached 0.69900 (best 0.69900), saving model to 'c:\\\\Users\\\\Иван\\\\Desktop\\\\time series\\\\ts13\\\\lightning_logs\\\\version_7\\\\checkpoints\\\\epoch=0-step=50.ckpt' as top 1\n"
     ]
    },
    {
     "name": "stdout",
     "output_type": "stream",
     "text": [
      "Epoch 1: |          | 50/? [09:12<00:00,  0.09it/s, v_num=7, train_loss=-.711]"
     ]
    },
    {
     "name": "stderr",
     "output_type": "stream",
     "text": [
      "Epoch 1, global step 100: 'train_loss' reached -0.71120 (best -0.71120), saving model to 'c:\\\\Users\\\\Иван\\\\Desktop\\\\time series\\\\ts13\\\\lightning_logs\\\\version_7\\\\checkpoints\\\\epoch=1-step=100.ckpt' as top 1\n"
     ]
    },
    {
     "name": "stdout",
     "output_type": "stream",
     "text": [
      "Epoch 2: |          | 50/? [08:54<00:00,  0.09it/s, v_num=7, train_loss=-.798]"
     ]
    },
    {
     "name": "stderr",
     "output_type": "stream",
     "text": [
      "Epoch 2, global step 150: 'train_loss' reached -0.79849 (best -0.79849), saving model to 'c:\\\\Users\\\\Иван\\\\Desktop\\\\time series\\\\ts13\\\\lightning_logs\\\\version_7\\\\checkpoints\\\\epoch=2-step=150.ckpt' as top 1\n"
     ]
    },
    {
     "name": "stdout",
     "output_type": "stream",
     "text": [
      "Epoch 3: |          | 50/? [09:04<00:00,  0.09it/s, v_num=7, train_loss=-1.18]"
     ]
    },
    {
     "name": "stderr",
     "output_type": "stream",
     "text": [
      "Epoch 3, global step 200: 'train_loss' reached -1.17682 (best -1.17682), saving model to 'c:\\\\Users\\\\Иван\\\\Desktop\\\\time series\\\\ts13\\\\lightning_logs\\\\version_7\\\\checkpoints\\\\epoch=3-step=200.ckpt' as top 1\n"
     ]
    },
    {
     "name": "stdout",
     "output_type": "stream",
     "text": [
      "Epoch 4: |          | 50/? [09:04<00:00,  0.09it/s, v_num=7, train_loss=-1.43]"
     ]
    },
    {
     "name": "stderr",
     "output_type": "stream",
     "text": [
      "Epoch 4, global step 250: 'train_loss' reached -1.42716 (best -1.42716), saving model to 'c:\\\\Users\\\\Иван\\\\Desktop\\\\time series\\\\ts13\\\\lightning_logs\\\\version_7\\\\checkpoints\\\\epoch=4-step=250.ckpt' as top 1\n",
      "`Trainer.fit` stopped: `max_epochs=5` reached.\n"
     ]
    },
    {
     "name": "stdout",
     "output_type": "stream",
     "text": [
      "Epoch 4: |          | 50/? [09:04<00:00,  0.09it/s, v_num=7, train_loss=-1.43]\n"
     ]
    }
   ],
   "source": [
    "model = DeepAREstimator(\n",
    "    prediction_length=10000, freq=\"S\", trainer_kwargs={\"max_epochs\": 5}\n",
    ").train(training_data)"
   ]
  },
  {
   "cell_type": "code",
   "execution_count": 44,
   "metadata": {},
   "outputs": [],
   "source": [
    "forecasts = list(model.predict(test_data.input))"
   ]
  },
  {
   "cell_type": "code",
   "execution_count": 67,
   "metadata": {},
   "outputs": [
    {
     "data": {
      "image/png": "[encoded data removed]",
      "text/plain": [
       "<Figure size 640x480 with 1 Axes>"
      ]
     },
     "metadata": {},
     "output_type": "display_data"
    }
   ],
   "source": [
    "plt.plot(df[\"1\"], color=\"black\")\n",
    "for forecast in forecasts:\n",
    "  forecast.plot()\n",
    "plt.legend([\"True values\"], loc=\"upper left\")\n",
    "plt.show()"
   ]
  },
  {
   "cell_type": "code",
   "execution_count": 46,
   "metadata": {},
   "outputs": [],
   "source": [
    "import numpy as np\n",
    "\n",
    "def mean_absolute_percentage_error(y_true, y_pred):\n",
    "    return np.mean(np.abs((y_true - y_pred) / y_true)) * 100"
   ]
  },
  {
   "cell_type": "code",
   "execution_count": 71,
   "metadata": {},
   "outputs": [
    {
     "name": "stdout",
     "output_type": "stream",
     "text": [
      "MSE: 0.2527555096068619\n",
      "RMSE: 0.5027479583318682\n",
      "MAE: 0.46941845057894177\n",
      "MAPE: 33.937621262796775\n",
      "R2: -9.470137966367533\n"
     ]
    }
   ],
   "source": [
    "from sklearn.metrics import (mean_absolute_error, mean_squared_error, r2_score)\n",
    "\n",
    "true = list(df[\"1\"])[-10000:]\n",
    "pred = forecasts[-1].samples[-1]\n",
    "print(\"MSE:\", mean_squared_error(true, pred))\n",
    "print(\"RMSE:\", np.sqrt(mean_squared_error(true, pred)))\n",
    "print(\"MAE:\", mean_absolute_error(true, pred))\n",
    "print(\"MAPE:\", mean_absolute_percentage_error(true, pred))\n",
    "print(\"R2:\", r2_score(true, pred))"
   ]
  }
 ],
 "metadata": {
  "kernelspec": {
   "display_name": "Python 3",
   "language": "python",
   "name": "python3"
  },
  "language_info": {
   "codemirror_mode": {
    "name": "ipython",
    "version": 3
   },
   "file_extension": ".py",
   "mimetype": "text/x-python",
   "name": "python",
   "nbconvert_exporter": "python",
   "pygments_lexer": "ipython3",
   "version": "3.11.5"
  }
 },
 "nbformat": 4,
 "nbformat_minor": 2
}
